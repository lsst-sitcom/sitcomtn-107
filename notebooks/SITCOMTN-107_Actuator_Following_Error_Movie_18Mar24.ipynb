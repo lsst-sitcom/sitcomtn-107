{
 "cells": [
  {
   "cell_type": "markdown",
   "metadata": {},
   "source": [
    "# BLAH - Force Actuator Following Error Movies\n",
    "\n",
    "As described in [SITCOMTN-107], we are seeing discrepancies between the Force Actuators applied forces and the demanded forces.  \n",
    "Now, we want to quantify those discrepancies vs time and actuator location.\n",
    "  \n",
    "\n",
    "[SITCOMTN-107]: https://sitcomtn-107.lsst.io/\n",
    "[M1M3 Actuator Forces dashboard in USDF]: https://usdf-rsp.slac.stanford.edu/chronograf/sources/1/dashboards/61?refresh=Paused&tempVars%5Bz_index%5D=112&tempVars%5By_index%5D=0&tempVars%5Bx_index%5D=112&tempVars%5Bs_index%5D=112&lower=now%28%29%20-%205m\n",
    "\n",
    "## Notebook Preparations\n",
    "\n",
    "Let's have here all the imports and global variables we will need during the notebook execution.  "
   ]
  },
  {
   "cell_type": "code",
   "execution_count": 3,
   "metadata": {
    "execution": {
     "iopub.execute_input": "2024-03-18T12:00:58.098014Z",
     "iopub.status.busy": "2024-03-18T12:00:58.097517Z",
     "iopub.status.idle": "2024-03-18T12:00:58.100804Z",
     "shell.execute_reply": "2024-03-18T12:00:58.100416Z",
     "shell.execute_reply.started": "2024-03-18T12:00:58.097998Z"
    }
   },
   "outputs": [],
   "source": [
    "# Directory to store the data\n",
    "from pathlib import Path\n",
    "data_dir = Path(\"./plots\")\n",
    "data_dir.mkdir(exist_ok=True, parents=True)\n",
    "\n",
    "# \"Gentle\" slew event\n",
    "gentle = [20240109, 147]\n",
    "\n",
    "# \"Aggressive\" slew event\n",
    "aggressive = [20240102, 1308]"
   ]
  },
  {
   "cell_type": "code",
   "execution_count": 4,
   "metadata": {
    "execution": {
     "iopub.execute_input": "2024-03-18T12:01:01.461610Z",
     "iopub.status.busy": "2024-03-18T12:01:01.461100Z",
     "iopub.status.idle": "2024-03-18T12:01:01.465863Z",
     "shell.execute_reply": "2024-03-18T12:01:01.465411Z",
     "shell.execute_reply.started": "2024-03-18T12:01:01.461591Z"
    },
    "tags": []
   },
   "outputs": [],
   "source": [
    "import sys, time, os, asyncio\n",
    "import shlex, subprocess\n",
    "import numpy as np\n",
    "import matplotlib.pyplot as plt\n",
    "%matplotlib inline\n",
    "from astropy.time import Time, TimeDelta\n",
    "from lsst.ts.xml.tables.m1m3 import FATable, FAIndex, force_actuator_from_id, actuator_id_to_index\n",
    "from lsst_efd_client import EfdClient\n",
    "from lsst.summit.utils.tmaUtils import TMAEventMaker"
   ]
  },
  {
   "cell_type": "markdown",
   "metadata": {},
   "source": [
    "## Set up the necessary subroutines"
   ]
  },
  {
   "cell_type": "code",
   "execution_count": 5,
   "metadata": {
    "execution": {
     "iopub.execute_input": "2024-03-18T12:01:07.269921Z",
     "iopub.status.busy": "2024-03-18T12:01:07.269473Z",
     "iopub.status.idle": "2024-03-18T12:01:07.534904Z",
     "shell.execute_reply": "2024-03-18T12:01:07.534475Z",
     "shell.execute_reply.started": "2024-03-18T12:01:07.269905Z"
    },
    "tags": []
   },
   "outputs": [],
   "source": [
    "def heat_map_z(df, axp, axs, FATable, index, zmin, zmax):\n",
    "    # This builds the following error heat maps\n",
    "    types = [['SAA','NA', 'o', 'Z'], \\\n",
    "             ['DAA','Y_PLUS', '^', 'Y_PLUS'], \\\n",
    "             ['DAA','Y_MINUS', 'v', 'Y_MINUS'], \\\n",
    "             ['DAA','X_PLUS', '>', 'X_PLUS'], \\\n",
    "             ['DAA','X_MINUS', '<', 'X_MINUS']]\n",
    "    axp.set_title(\"Primary\")\n",
    "    axp.set_xlabel(\"X position (m)\")\n",
    "    axp.set_ylabel(\"Y position (m)\")\n",
    "\n",
    "    for [type, orient, marker, label] in types:\n",
    "        xs = []\n",
    "        ys = []\n",
    "        zs = []\n",
    "        for i in range(len(FATable)):\n",
    "            x = FATable[i].x_position\n",
    "            y = FATable[i].y_position\n",
    "            if FATable[i].actuator_type.name == type and \\\n",
    "                FATable[i].orientation.name == orient:\n",
    "                xs.append(x)\n",
    "                ys.append(y)\n",
    "                name=f\"primaryCylinderFollowingError{i}\"\n",
    "                zs.append(df.iloc[index][name])\n",
    "        im = axp.scatter(xs, ys, marker='o', c=zs, cmap='RdBu_r', \\\n",
    "                         vmin=zmin, vmax=zmax, s=50, label=label)\n",
    "    plt.colorbar(im, ax=axp,fraction=0.055, pad=0.02, cmap='RdBu_r')  \n",
    "    axs.set_title(\"Secondary\")\n",
    "    axs.set_xlabel(\"X position (m)\")\n",
    "    axp.set_xlim(-5,5)\n",
    "    axp.set_ylim(-5,5)\n",
    "    axs.set_xlim(-5,5)\n",
    "    axs.set_ylim(-5,5)\n",
    "\n",
    "    for [type, orient, marker, label] in types:\n",
    "        if type == 'SAA':\n",
    "            continue\n",
    "        xs = []\n",
    "        ys = []\n",
    "        zs = []\n",
    "        for i in range(len(FATable)):\n",
    "            x = FATable[i].x_position\n",
    "            y = FATable[i].y_position\n",
    "            if FATable[i].actuator_type.name == type and \\\n",
    "                FATable[i].orientation.name == orient:\n",
    "                xs.append(x)\n",
    "                ys.append(y)\n",
    "                name=f\"secondaryCylinderFollowingError{FATable[i].s_index}\"\n",
    "                zs.append(df.iloc[index][name])\n",
    "        im = axs.scatter(xs, ys, marker=marker, c=zs, cmap='RdBu_r', \\\n",
    "                         vmin=zmin, vmax=zmax, s=50, label=label)\n",
    "    plt.colorbar(im, ax=axs,fraction=0.055, pad=0.02, cmap='RdBu_r')  \n",
    "\n",
    "def hard_point_plot(df, ax, t, t0, tmin, tmax):\n",
    "    # This plots the hardpoint forces\n",
    "    ax.set_title(\"Hardpoint forces\")\n",
    "    ax.set_ylabel(\"measuredForce(N)\")\n",
    "    ax.set_ylim(-3500, 3500)\n",
    "    times = df['timestamp'].values - t0\n",
    "    for i in range(6):\n",
    "        data = df[f'measuredForce{i}'].values\n",
    "        ax.plot(times, data)\n",
    "    ax.set_xlim(tmin, tmax)\n",
    "    ax.set_xticks([])    \n",
    "    ax.plot([t, t], [-3000, 3000], ls='--', color='black')\n",
    "    ax.plot([times[0], times[-1]], [3000, 3000], color='red')\n",
    "    ax.plot([tmin, tmax], [-3000, -3000], color='red')\n",
    "    ax.plot([tmin, tmax], [1000, 1000], ls='--', color='blue')\n",
    "    ax.plot([tmin, tmax], [-1000, -1000], ls='--', color='blue')\n",
    "\n",
    "def tma_plot(az, el, ax, t, t0, tmin, tmax):\n",
    "    #This plots the TMA position\n",
    "    ax.set_ylabel(\"TMA Velocity\\n(deg/sec)\")\n",
    "    ax.set_ylim(-10,10)\n",
    "    ax.set_xlabel(\"Time (sec)\")\n",
    "    times = az['timestamp'] - t0\n",
    "    az_v = az['actualVelocity'].values\n",
    "    el_v = el['actualVelocity'].values\n",
    "    ax.plot(times, az_v, color='blue', label='Az')\n",
    "    ax.plot(times, el_v, color='green', label='El')\n",
    "    ax.set_xlim(tmin, tmax)\n",
    "    ax.legend()\n",
    "    ax.plot([t, t], [-3000, 3000], ls='--', color='black')\n"
   ]
  },
  {
   "cell_type": "markdown",
   "metadata": {},
   "source": [
    "## Now get the data and generate the frames\n",
    "### This will take some time\n",
    "\n",
    "### First, get the needed data"
   ]
  },
  {
   "cell_type": "code",
   "execution_count": 6,
   "metadata": {
    "execution": {
     "iopub.execute_input": "2024-03-18T12:04:29.330750Z",
     "iopub.status.busy": "2024-03-18T12:04:29.330469Z",
     "iopub.status.idle": "2024-03-18T12:05:14.998051Z",
     "shell.execute_reply": "2024-03-18T12:05:14.997563Z",
     "shell.execute_reply.started": "2024-03-18T12:04:29.330736Z"
    }
   },
   "outputs": [
    {
     "data": {
      "text/html": [
       "<pre style=\"margin: 0.1em;\n",
       "padding-left: 0.25em;\n",
       "border-left-style: solid;\n",
       "font-family: var(--jp-code-font-family);\n",
       "font-size: var(--jp-code-font-size);\n",
       "line-height: var(--jp-code-line-height);\n",
       "\"><span style=\"color: var(--jp-warn-color2)\">lsst.summit.utils.tmaUtils</span> <span style=\"color: var(--jp-info-color0)\">INFO</span>: Retrieving mount data for 20240102 from the EFD</pre>"
      ],
      "text/plain": [
       "<IPython.core.display.HTML object>"
      ]
     },
     "metadata": {},
     "output_type": "display_data"
    }
   ],
   "source": [
    "client = EfdClient('usdf_efd')\n",
    "[dayObs, seqNum] = aggressive\n",
    "eventMaker = TMAEventMaker()\n",
    "event = eventMaker.getEvent(dayObs, seqNum)\n",
    "start = event.begin\n",
    "end = event.end\n",
    "dirName = str(data_dir / f\"actuator_movie_{dayObs}_{seqNum}\")\n",
    "%mkdir -p {dirName}\n",
    "pad_start = 1.0 # Starts the plots before the event begin\n",
    "plot_start = start - TimeDelta(pad_start, format='sec') \n",
    "pad_end = 0.0 # continues the plots after the event end\n",
    "plot_end = end + TimeDelta(pad_end, format='sec') \n",
    "forces = await client.select_time_series(\"lsst.sal.MTM1M3.forceActuatorData\", \\\n",
    "                                         \"*\", plot_start, plot_end)\n",
    "hardpoints = await client.select_time_series(\"lsst.sal.MTM1M3.hardpointActuatorData\", \\\n",
    "                                            \"*\", plot_start, plot_end)\n",
    "az = await client.select_time_series('lsst.sal.MTMount.azimuth', \\\n",
    "                                            ['*'],  plot_start, plot_end)\n",
    "el = await client.select_time_series('lsst.sal.MTMount.elevation', \\\n",
    "                                            ['*'],  plot_start, plot_end) \n",
    "\n",
    "t0 = start.unix_tai\n",
    "# The value below compensates for the different delays in the\n",
    "# different databases\n",
    "t0_az_el = 2.0 * start.unix_tai - az['timestamp'].iloc[0] - pad_start\n",
    "tmax = forces['timestamp'].iloc[-1] - t0\n",
    "tmin = -pad_start"
   ]
  },
  {
   "cell_type": "markdown",
   "metadata": {},
   "source": [
    "### Now, generate the frames."
   ]
  },
  {
   "cell_type": "code",
   "execution_count": 7,
   "metadata": {
    "execution": {
     "iopub.execute_input": "2024-03-18T12:05:46.532235Z",
     "iopub.status.busy": "2024-03-18T12:05:46.531594Z",
     "iopub.status.idle": "2024-03-18T12:07:12.676616Z",
     "shell.execute_reply": "2024-03-18T12:07:12.676178Z",
     "shell.execute_reply.started": "2024-03-18T12:05:46.532218Z"
    },
    "scrolled": true,
    "tags": []
   },
   "outputs": [],
   "source": [
    "# Build the individual frames\n",
    "zmin = -200.0\n",
    "zmax = 200.0\n",
    "\n",
    "fig = plt.figure(figsize=(8,8))\n",
    "for n in range(len(forces)):\n",
    "    t = Time(forces.index[n], scale='utc').unix_tai - t0\n",
    "    t_msec = int(t * 1000)\n",
    "    fig.suptitle(f\"Actuator following errors.\" +\n",
    "                 f\"T = {t_msec} msec\\n {dayObs} - seqNum {seqNum}\", \\\n",
    "                 y=0.90)\n",
    "    axp = fig.add_axes((0.1, 0.45, 0.35, 0.35))\n",
    "    axs = fig.add_axes((0.55, 0.45, 0.35, 0.35))\n",
    "    heat_map_z(forces, axp, axs, FATable, n, zmin, zmax)\n",
    "    ax_hp = fig.add_axes((0.1, 0.23, 0.8, 0.15))\n",
    "    hard_point_plot(hardpoints, ax_hp, t, t0, tmin, tmax)\n",
    "    ax_tma = fig.add_axes((0.1, 0.08, 0.8, 0.15))\n",
    "    tma_plot(az, el, ax_tma, t, t0_az_el, tmin, tmax)\n",
    "    plt.savefig(f\"{dirName}/Frame_{n:05d}.png\")\n",
    "    plt.clf()\n",
    "plt.close()"
   ]
  },
  {
   "cell_type": "markdown",
   "metadata": {},
   "source": [
    "## Now build the movie"
   ]
  },
  {
   "cell_type": "code",
   "execution_count": 14,
   "metadata": {
    "execution": {
     "iopub.execute_input": "2024-03-18T12:14:31.918654Z",
     "iopub.status.busy": "2024-03-18T12:14:31.918370Z",
     "iopub.status.idle": "2024-03-18T12:14:32.954667Z",
     "shell.execute_reply": "2024-03-18T12:14:32.954146Z",
     "shell.execute_reply.started": "2024-03-18T12:14:31.918638Z"
    },
    "tags": []
   },
   "outputs": [
    {
     "name": "stdout",
     "output_type": "stream",
     "text": [
      "\u001b[1mThe movie name will be: plots/actuator_movie_20240102_1308/m1m3_movie_20240102_1308.mp4\u001b[0m\n"
     ]
    },
    {
     "name": "stderr",
     "output_type": "stream",
     "text": [
      "ffmpeg version 4.4 Copyright (c) 2000-2021 the FFmpeg developers\n",
      "  built with gcc 9.4.0 (GCC)\n",
      "  configuration: --prefix=/home/conda/feedstock_root/build_artifacts/ffmpeg_1635121324509/_h_env_placehold_placehold_placehold_placehold_placehold_placehold_placehold_placehold_placehold_placehold_placehold_placehold_placehold_placehold_placehold_placehold_placehold_placehold_plac --cc=/home/conda/feedstock_root/build_artifacts/ffmpeg_1635121324509/_build_env/bin/x86_64-conda-linux-gnu-cc --disable-doc --disable-openssl --enable-avresample --enable-demuxer=dash --enable-gnutls --enable-gpl --enable-hardcoded-tables --enable-libfreetype --enable-libopenh264 --enable-libx264 --enable-libx265 --enable-libxml2 --enable-libvpx --enable-pic --enable-pthreads --enable-shared --disable-static --enable-version3 --enable-zlib --enable-libmp3lame --pkg-config=/home/conda/feedstock_root/build_artifacts/ffmpeg_1635121324509/_build_env/bin/pkg-config\n",
      "  libavutil      56. 70.100 / 56. 70.100\n",
      "  libavcodec     58.134.100 / 58.134.100\n",
      "  libavformat    58. 76.100 / 58. 76.100\n",
      "  libavdevice    58. 13.100 / 58. 13.100\n",
      "  libavfilter     7.110.100 /  7.110.100\n",
      "  libavresample   4.  0.  0 /  4.  0.  0\n",
      "  libswscale      5.  9.100 /  5.  9.100\n",
      "  libswresample   3.  9.100 /  3.  9.100\n",
      "  libpostproc    55.  9.100 / 55.  9.100\n",
      "Input #0, image2, from 'plots/actuator_movie_20240102_1308/*.png':\n",
      "  Duration: 00:00:08.80, start: 0.000000, bitrate: N/A\n",
      "  Stream #0:0: Video: png, rgba(pc), 800x800 [SAR 3937:3937 DAR 1:1], 25 fps, 25 tbr, 25 tbn, 25 tbc\n",
      "Stream mapping:\n",
      "  Stream #0:0 -> #0:0 (png (native) -> h264 (libx264))\n",
      "Press [q] to stop, [?] for help\n",
      "[libx264 @ 0x5594438da8c0] using SAR=1/1\n",
      "[libx264 @ 0x5594438da8c0] using cpu capabilities: MMX2 SSE2Fast SSSE3 SSE4.2 AVX FMA3 BMI2 AVX2\n",
      "[libx264 @ 0x5594438da8c0] profile High, level 3.1, 4:2:0, 8-bit\n",
      "[libx264 @ 0x5594438da8c0] 264 - core 161 r3030M 8bd6d28 - H.264/MPEG-4 AVC codec - Copyleft 2003-2020 - http://www.videolan.org/x264.html - options: cabac=1 ref=3 deblock=1:0:0 analyse=0x3:0x113 me=hex subme=7 psy=1 psy_rd=1.00:0.00 mixed_ref=1 me_range=16 chroma_me=1 trellis=1 8x8dct=1 cqm=0 deadzone=21,11 fast_pskip=1 chroma_qp_offset=-2 threads=25 lookahead_threads=4 sliced_threads=0 nr=0 decimate=1 interlaced=0 bluray_compat=0 constrained_intra=0 bframes=3 b_pyramid=2 b_adapt=1 b_bias=0 direct=1 weightb=1 open_gop=0 weightp=2 keyint=250 keyint_min=25 scenecut=40 intra_refresh=0 rc_lookahead=40 rc=crf mbtree=1 crf=23.0 qcomp=0.60 qpmin=0 qpmax=69 qpstep=4 ip_ratio=1.40 aq=1:1.00\n",
      "Output #0, mp4, to 'plots/actuator_movie_20240102_1308/m1m3_movie_20240102_1308.mp4':\n",
      "  Metadata:\n",
      "    encoder         : Lavf58.76.100\n",
      "  Stream #0:0: Video: h264 (avc1 / 0x31637661), yuv420p(tv, progressive), 800x800 [SAR 1:1 DAR 1:1], q=2-31, 25 fps, 12800 tbn\n",
      "    Metadata:\n",
      "      encoder         : Lavc58.134.100 libx264\n",
      "    Side data:\n",
      "      cpb: bitrate max/min/avg: 0/0/0 buffer size: 0 vbv_delay: N/A\n",
      "frame=  220 fps=0.0 q=-1.0 Lsize=     383kB time=00:00:08.68 bitrate= 361.5kbits/s speed=8.89x    \n",
      "video:380kB audio:0kB subtitle:0kB other streams:0kB global headers:0kB muxing overhead: 0.846294%\n",
      "[libx264 @ 0x5594438da8c0] frame I:1     Avg QP:17.96  size: 41786\n",
      "[libx264 @ 0x5594438da8c0] frame P:123   Avg QP:21.92  size:  2462\n",
      "[libx264 @ 0x5594438da8c0] frame B:96    Avg QP:30.18  size:   455\n",
      "[libx264 @ 0x5594438da8c0] consecutive B-frames: 19.5% 63.6%  9.5%  7.3%\n",
      "[libx264 @ 0x5594438da8c0] mb I  I16..4: 39.3% 26.2% 34.5%\n",
      "[libx264 @ 0x5594438da8c0] mb P  I16..4:  0.1%  0.2%  0.4%  P16..4:  4.5%  2.2%  2.2%  0.0%  0.0%    skip:90.4%\n",
      "[libx264 @ 0x5594438da8c0] mb B  I16..4:  0.1%  0.3%  0.0%  B16..8:  4.5%  0.4%  0.2%  direct: 0.4%  skip:94.2%  L0:37.4% L1:58.6% BI: 4.0%\n",
      "[libx264 @ 0x5594438da8c0] 8x8 transform intra:35.7% inter:51.3%\n",
      "[libx264 @ 0x5594438da8c0] coded y,uvDC,uvAC intra: 31.2% 28.9% 22.2% inter: 2.3% 3.2% 1.1%\n",
      "[libx264 @ 0x5594438da8c0] i16 v,h,dc,p: 58% 37%  5%  0%\n",
      "[libx264 @ 0x5594438da8c0] i8 v,h,dc,ddl,ddr,vr,hd,vl,hu: 23% 20% 49%  1%  1%  2%  1%  1%  2%\n",
      "[libx264 @ 0x5594438da8c0] i4 v,h,dc,ddl,ddr,vr,hd,vl,hu: 29% 24% 19%  4%  4%  6%  5%  5%  3%\n",
      "[libx264 @ 0x5594438da8c0] i8c dc,h,v,p: 70% 20%  9%  1%\n",
      "[libx264 @ 0x5594438da8c0] Weighted P-Frames: Y:0.0% UV:0.0%\n",
      "[libx264 @ 0x5594438da8c0] ref P L0: 67.6% 11.8% 11.5%  9.1%\n",
      "[libx264 @ 0x5594438da8c0] ref B L0: 72.7% 24.1%  3.1%\n",
      "[libx264 @ 0x5594438da8c0] ref B L1: 98.7%  1.3%\n",
      "[libx264 @ 0x5594438da8c0] kb/s:353.00\n"
     ]
    },
    {
     "data": {
      "text/plain": [
       "0"
      ]
     },
     "execution_count": 14,
     "metadata": {},
     "output_type": "execute_result"
    }
   ],
   "source": [
    "print(f\"\\033[1mThe movie name will be: \" + \n",
    "      f\"{dirName}/m1m3_movie_{dayObs}_{seqNum}.mp4\\033[0m\")\n",
    "\n",
    "command = f\"ffmpeg -pattern_type glob -i \" + \\\n",
    "    f\"'{dirName}/*.png' -f mp4 -vcodec libx264\" + \\\n",
    "    f\" -pix_fmt yuv420p -framerate 50 -y {dirName}\" + \\\n",
    "    f\"/m1m3_movie_{dayObs}_{seqNum}.mp4\"\n",
    "args = shlex.split(command)\n",
    "build_movie = subprocess.Popen(args)\n",
    "build_movie.wait()"
   ]
  },
  {
   "cell_type": "code",
   "execution_count": null,
   "metadata": {},
   "outputs": [],
   "source": []
  }
 ],
 "metadata": {
  "kernelspec": {
   "display_name": "LSST",
   "language": "python",
   "name": "lsst"
  },
  "language_info": {
   "codemirror_mode": {
    "name": "ipython",
    "version": 3
   },
   "file_extension": ".py",
   "mimetype": "text/x-python",
   "name": "python",
   "nbconvert_exporter": "python",
   "pygments_lexer": "ipython3",
   "version": "3.11.7"
  }
 },
 "nbformat": 4,
 "nbformat_minor": 4
}
